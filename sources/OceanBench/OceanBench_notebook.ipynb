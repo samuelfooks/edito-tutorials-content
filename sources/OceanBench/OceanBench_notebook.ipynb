{
 "cells": [
  {
   "cell_type": "markdown",
   "id": "862abe46",
   "metadata": {},
   "source": [
    "# Example of OceanBench use"
   ]
  },
  {
   "cell_type": "markdown",
   "id": "1d7b8549",
   "metadata": {},
   "source": [
    "### First install needed libraries"
   ]
  },
  {
   "cell_type": "code",
   "execution_count": null,
   "id": "2022ef55",
   "metadata": {},
   "outputs": [],
   "source": [
    "!pip install --quiet condacolab einops pytorch-lightning cmocean pint-xarray numpy_groupies loguru cffi==1.15.1\n",
    "!mamba env update --quiet -f /home/onyxia/work/oceanbench/environments/linux.yaml\n",
    "!mamba install --yes --quiet -c conda-forge  -c pyviz kornia metpy xrft pyinterp funcy=1.18 fsspec=2022.11.0 dvc-s3=2.21.0 hvplot gcm_filters esmpy xesmf\n",
    "\n",
    "!pip --quiet install  \"git+https://github.com/jejjohnson/ocn-tools.git\"  \n",
    "!pip --quiet install torch==2.0.1+cpu torchvision==0.15.2+cpu torchaudio==2.0.2 --index-url https://download.pytorch.org/whl/cpu\n",
    "\n",
    "!export PYTHONPATH=\"${PYTHONPATH}:oceanbench/\""
   ]
  },
  {
   "cell_type": "markdown",
   "id": "d8c4cac1-e5b6-4780-94a3-4a1066fc5c01",
   "metadata": {},
   "source": [
    "# Fetch data using CMC"
   ]
  },
  {
   "cell_type": "code",
   "execution_count": null,
   "id": "50b02238-0de2-435b-b283-824f257a673a",
   "metadata": {},
   "outputs": [],
   "source": [
    "import copernicus_marine_client as cmc\n",
    "query_keywords = [\"Global Ocean Physics Reanalysis\"]\n",
    "\n",
    "query_result = cmc.describe(contains=['Global Ocean Physics Reanalysis'], include_datasets=True)\n",
    "\n",
    "for product in query_result.get('products'):\n",
    "    for dataset in product.get('datasets'):\n",
    "        print(f\"{dataset.get('dataset_id')} - {dataset.get('dataset_name')}\")\n",
    "\n",
    "for product in query_result.get('products'):\n",
    "    for dataset in product.get('datasets'):\n",
    "        if dataset.get('dataset_id') == \"cmems_mod_glo_phy_my_0.083_P1D-m\":\n",
    "            chosen_dataset = dataset\n",
    "print(\"---Variables---\")\n",
    "for variable in chosen_dataset.get(\"variables\"):\n",
    "    print(f\"{variable.get('standard_name')} - {variable.get('short_name')}\")"
   ]
  },
  {
   "cell_type": "code",
   "execution_count": null,
   "id": "a24fa28a-0afb-47f8-8a14-f7718f863a9e",
   "metadata": {},
   "outputs": [],
   "source": [
    "from datetime import datetime\n",
    "start_datetime=datetime(2020,1,1)\n",
    "end_datetime=datetime(2020,1,5)\n",
    "\n",
    "test_data=cmc.load_xarray_dataset(\n",
    "    dataset_id=\"cmems_mod_glo_phy_my_0.083_P1D-m\", \n",
    "    variables=[\"uo\",\"vo\", \"zos\"],\n",
    "    minimal_longitude=-27,\n",
    "    maximal_longitude=0,\n",
    "    minimal_latitude=21,\n",
    "    maximal_latitude=39,\n",
    "    minimal_depth=0.0,\n",
    "    maximal_depth=2.0,\n",
    "    start_datetime=start_datetime,\n",
    "    end_datetime=end_datetime,\n",
    ")"
   ]
  },
  {
   "cell_type": "code",
   "execution_count": null,
   "id": "6ab34e38-b8ac-49cf-bf8c-070d2ebf2991",
   "metadata": {},
   "outputs": [],
   "source": [
    "test_data"
   ]
  },
  {
   "cell_type": "markdown",
   "id": "d3b7b6b7-9454-4e8b-98f3-c0f43dd7fb92",
   "metadata": {},
   "source": [
    "# XRDAPatcher (oceanbench patching/stitching tool) for Machine Learning\n",
    "\n",
    "##  green part in:\n",
    "\n",
    "![](scheme_ob.png)\n",
    "\n",
    "\n"
   ]
  },
  {
   "cell_type": "code",
   "execution_count": null,
   "id": "84ac4393-d005-4f86-b7f7-5d5ef6fc682a",
   "metadata": {},
   "outputs": [],
   "source": [
    "import torch\n",
    "from xrpatcher import XRDAPatcher\n",
    "\n",
    "import matplotlib.pyplot as plt\n",
    "import itertools\n",
    "import xarray as xr\n",
    "import collections\n",
    "import numpy as np\n"
   ]
  },
  {
   "cell_type": "code",
   "execution_count": null,
   "id": "b87ccb34-17d6-4640-b7b5-0b7ab14153b6",
   "metadata": {},
   "outputs": [],
   "source": [
    "class XrTorchDataset(torch.utils.data.Dataset):\n",
    "    def __init__(self, patcher: XRDAPatcher, item_postpro=None):\n",
    "        self.patcher = patcher\n",
    "        self.postpro = item_postpro\n",
    "        \n",
    "    def __getitem__(self, idx):\n",
    "        item = self.patcher[idx].load().values\n",
    "        if self.postpro:\n",
    "            item = self.postpro(item)\n",
    "        return item\n",
    "    \n",
    "    def reconstruct_from_batches(self, batches, **rec_kws):\n",
    "        return self.patcher.reconstruct([*itertools.chain(*batches)], **rec_kws)\n",
    "\n",
    "    def __len__(self):\n",
    "        return len(self.patcher)"
   ]
  },
  {
   "cell_type": "code",
   "execution_count": null,
   "id": "6e1db210-8fa8-4ec5-8b7b-14668c13a3ad",
   "metadata": {},
   "outputs": [],
   "source": [
    "# Preparing the training data\n",
    "raw_data = test_data\n",
    "TrainingItem = collections.namedtuple('TrainingItem', ('uo', 'vo'))\n",
    "data = (\n",
    "    raw_data[[*TrainingItem._fields]].isel(longitude=slice(None, 325), latitude=slice(None, 217), time=0, elevation=0)\n",
    "    .sortby('longitude').sortby('latitude')\n",
    "    .to_array().transpose('variable', 'latitude', 'longitude').load()\n",
    ")\n",
    "\n",
    "# Instantiate the patching logic\n",
    "patches = dict(longitude=25, latitude=31)\n",
    "patcher = XRDAPatcher(\n",
    "    da=data,\n",
    "    patches=patches,\n",
    "    strides=patches, # No overlap\n",
    "    check_full_scan=True\n",
    ")\n",
    "\n",
    "\n",
    "# Instantiate the \n",
    "torch_ds = XrTorchDataset(patcher, item_postpro=TrainingItem._make)\n",
    "dataloader = torch.utils.data.DataLoader(torch_ds, batch_size=4, shuffle=False)\n",
    "\n",
    "\n",
    "items = [torch_ds[i] for i in range(len(torch_ds))]\n",
    "ex_item = items[0]\n",
    "batch = next(iter(dataloader))\n",
    "             \n",
    "print(f\"Item shape: {ex_item.uo.shape=}, {ex_item.vo.shape=}\")\n",
    "print(f\"Batch shape: {batch.uo.shape=}, {batch.vo.shape=}\")"
   ]
  },
  {
   "cell_type": "code",
   "execution_count": null,
   "id": "8c6fcfbc-0132-4e92-8b6e-1864e300a4e9",
   "metadata": {},
   "outputs": [],
   "source": [
    "data.plot(row='variable', figsize=(5, 6))\n"
   ]
  },
  {
   "cell_type": "code",
   "execution_count": null,
   "id": "e9035e1e-f1fa-41f1-95ca-96ddb7557612",
   "metadata": {},
   "outputs": [],
   "source": [
    "def plot_patches(items_to_plot, nbaxes=(7, 13)):\n",
    "    fig, axs = plt.subplots(*nbaxes, figsize=(5, 5))\n",
    "\n",
    "    for item, ax in zip( items_to_plot, [*itertools.chain(*reversed(axs))]):\n",
    "        ax.imshow(item, cmap='RdBu_r', origin='lower')\n",
    "        ax.set_xticks([], labels=None)\n",
    "        ax.set_axis_off()\n",
    "        ax.set_yticks([], labels=None)\n",
    "\n",
    "        \n",
    "print(\"Patches of uo\")\n",
    "plot_patches([i.uo for i in items] )\n",
    "plt.show()\n",
    "\n",
    "print(\"\\n\\nPatches of vo\")\n",
    "plot_patches([i.vo for i in items])\n"
   ]
  },
  {
   "cell_type": "markdown",
   "id": "26d4a6d8-a48e-4550-a5c6-86728492f415",
   "metadata": {},
   "source": [
    "### Reconstructing the amplitude of the speed from the patches"
   ]
  },
  {
   "cell_type": "code",
   "execution_count": null,
   "id": "820ee015-1ec7-4013-9d07-cef79d3a7918",
   "metadata": {},
   "outputs": [],
   "source": [
    "rec_ds = torch_ds.reconstruct_from_batches((np.sqrt(batch.uo**2 + batch.vo**2) for batch in dataloader), dims_labels=['latitude', 'longitude'])\n",
    "rec_ds.plot(figsize=(5, 3))"
   ]
  },
  {
   "cell_type": "markdown",
   "id": "976b42ec-f957-46ad-9190-7150252470d0",
   "metadata": {},
   "source": [
    "### Reconstructing the laplacian (~ vorticity) from the patches"
   ]
  },
  {
   "cell_type": "code",
   "execution_count": null,
   "id": "878031c4-e0eb-4f22-a28a-27fc10be06ab",
   "metadata": {},
   "outputs": [],
   "source": [
    "rec_ds = torch_ds.reconstruct_from_batches(((np.diff(batch.uo, axis=1, prepend=0) + np.diff(batch.vo,axis=2, prepend=0)) for batch in dataloader), dims_labels=['latitude', 'longitude'])\n",
    "rec_ds.plot(figsize=(5, 3))"
   ]
  },
  {
   "cell_type": "markdown",
   "id": "eb43ceed-33ad-494d-b7b9-02bded3d78ad",
   "metadata": {},
   "source": [
    "### Above we see that the border of the patches creates artifact during the derivative: That can befixed by using overlapping patches with overlapping patches (stride smaller than patch size)"
   ]
  },
  {
   "cell_type": "code",
   "execution_count": null,
   "id": "28121f01-9f67-4190-b78a-8792b2f4d495",
   "metadata": {},
   "outputs": [],
   "source": [
    "###### patches = dict(longitude=50, latitude=31)\n",
    "# strides = dict(longitude=25, latitude=6)\n",
    "patches = dict(longitude=25, latitude=31)\n",
    "strides = dict(longitude=5, latitude=6)\n",
    "patcher = XRDAPatcher(\n",
    "    da=data, patches=patches, strides=strides, check_full_scan=True\n",
    ")\n",
    "\n",
    "rec_weight = np.ones((31, 25)) # Weight for each pixel of one patch\n",
    "rec_weight[:1] = 0 # do not use the border pixels during the reconstruction\n",
    "rec_weight[:, :1] = 0\n",
    "rec_weight[-1:] = 0\n",
    "rec_weight[:, -1:] = 0\n",
    "\n",
    "\n",
    "torch_ds = XrTorchDataset(patcher, item_postpro=TrainingItem._make)\n",
    "dataloader = torch.utils.data.DataLoader(torch_ds, batch_size=4, shuffle=False)\n",
    "rec_ds = torch_ds.reconstruct_from_batches(\n",
    "    ((np.diff(batch.uo, axis=1, prepend=0) + np.diff(batch.vo,axis=2, prepend=0)) for batch in dataloader),\n",
    "    dims_labels=['latitude', 'longitude'],\n",
    "    weight=rec_weight,\n",
    ")\n",
    "rec_ds.plot(figsize=(5, 3))\n",
    "### not properly handling nan??"
   ]
  },
  {
   "cell_type": "markdown",
   "id": "3eb11f6a-dd40-4f40-bd58-acec71c5366b",
   "metadata": {},
   "source": [
    "# Geoprocessing examples using ocn_tools tool of oceanbench\n",
    "\n",
    "\n",
    "##  green part in:\n",
    "\n",
    "![](scheme_ob.png)\n"
   ]
  },
  {
   "cell_type": "code",
   "execution_count": null,
   "id": "5ece2700-e580-47e1-85bf-2b0d22fab4e2",
   "metadata": {},
   "outputs": [],
   "source": [
    "from ocn_tools._src.geoprocessing.spatial import latlon_deg2m\n",
    "from ocn_tools._src.geoprocessing.temporal import time_rescale\n",
    "import pandas as pd\n"
   ]
  },
  {
   "cell_type": "code",
   "execution_count": null,
   "id": "443c7d1b-fa02-4e33-942b-df294b3ad72b",
   "metadata": {},
   "outputs": [],
   "source": [
    "test_data.time"
   ]
  },
  {
   "cell_type": "markdown",
   "id": "244eaa3e-ffee-4a60-a8cc-a7496639f33d",
   "metadata": {},
   "source": [
    "#### Deg to meters"
   ]
  },
  {
   "cell_type": "code",
   "execution_count": null,
   "id": "9968c2c2-9058-4498-81e0-e966ca6a676f",
   "metadata": {},
   "outputs": [],
   "source": [
    "test_data=test_data.rename({'latitude':'lat', 'longitude':'lon'})\n"
   ]
  },
  {
   "cell_type": "code",
   "execution_count": null,
   "id": "51e15a56-39f9-46ce-baa8-8420cf7d20ef",
   "metadata": {},
   "outputs": [],
   "source": [
    "\n",
    "da_scaled = latlon_deg2m(test_data, mean=False)\n",
    "da_scaled.lat\n",
    "# ----> add args (lat lon names)"
   ]
  },
  {
   "cell_type": "markdown",
   "id": "3bd6db7d-7acc-42b9-af18-d8b71b55b61d",
   "metadata": {},
   "source": [
    "##### DateTime 2 Seconds"
   ]
  },
  {
   "cell_type": "code",
   "execution_count": null,
   "id": "47766bcb-5ab7-4d3b-b41a-1a7a6e53c156",
   "metadata": {},
   "outputs": [],
   "source": [
    "t0 = \"2020-01-01\"\n",
    "freq_dt = 1\n",
    "freq_unit = \"D\"\n",
    "\n",
    "test_data_trescal = time_rescale(test_data, freq_dt=freq_dt, freq_unit=freq_unit, t0=t0)\n",
    "test_data_trescal.time\n"
   ]
  },
  {
   "cell_type": "markdown",
   "id": "9199b8f2-52dd-4653-a793-4655cbfb547c",
   "metadata": {},
   "source": [
    "### Computer geostrophic components"
   ]
  },
  {
   "cell_type": "code",
   "execution_count": null,
   "id": "5125eafe-a332-4b03-ae0c-6323a7b1f298",
   "metadata": {},
   "outputs": [],
   "source": [
    "from ocn_tools._src.geoprocessing.geostrophic import geostrophic_velocities\n"
   ]
  },
  {
   "cell_type": "code",
   "execution_count": null,
   "id": "808d1012-3f6f-48c4-ab15-54c34a6cecf1",
   "metadata": {},
   "outputs": [],
   "source": [
    "da = geostrophic_velocities(test_data, variable=\"zos\")\n",
    "##----> add args (lat lon names)"
   ]
  },
  {
   "cell_type": "code",
   "execution_count": null,
   "id": "cfead73b-081b-498c-8db6-bda5b748b7ab",
   "metadata": {},
   "outputs": [],
   "source": [
    "import matplotlib.pyplot as plt\n",
    "%matplotlib inline\n",
    "fig, ax = plt.subplots(ncols=2, figsize=(10,4))\n",
    "\n",
    "da.u.isel(time=1).plot.pcolormesh(ax=ax[0], cmap=\"jet\")\n",
    "da.v.isel(time=1).plot.pcolormesh(ax=ax[1], cmap=\"jet\")\n",
    "\n",
    "plt.tight_layout()\n",
    "plt.show()"
   ]
  },
  {
   "cell_type": "markdown",
   "id": "ffc772e0-9a2c-47e5-aa23-3bf650a28d54",
   "metadata": {},
   "source": [
    "### Computer the Kinetic Energy from current and geostrophic current"
   ]
  },
  {
   "cell_type": "code",
   "execution_count": null,
   "id": "1c342ccf-9bc8-4fef-ad6e-de9266ae0611",
   "metadata": {},
   "outputs": [],
   "source": [
    "from ocn_tools._src.geoprocessing.geostrophic import kinetic_energy\n",
    "\n",
    "da = geostrophic_velocities(test_data, variable=\"zos\")\n",
    "da = kinetic_energy(da, variables=[\"u\", \"v\"])\n",
    "da2 = kinetic_energy(test_data, variables=[\"uo\", \"vo\"])\n"
   ]
  },
  {
   "cell_type": "code",
   "execution_count": null,
   "id": "977dfc4e-b329-4e8e-952f-a79640673a07",
   "metadata": {},
   "outputs": [],
   "source": [
    "%matplotlib inline\n",
    "fig, ax = plt.subplots(ncols=2, figsize=(10,4))\n",
    "\n",
    "da.ke.isel(time=1).plot.pcolormesh(ax=ax[0], cmap=\"jet\")\n",
    "da2.ke.isel(time=1, elevation=1).plot.pcolormesh(ax=ax[1], cmap=\"jet\")\n",
    "\n",
    "plt.tight_layout()\n",
    "plt.show()"
   ]
  },
  {
   "cell_type": "markdown",
   "id": "f2f4be5f-3ff9-4eec-b7c2-57d583cd03a9",
   "metadata": {},
   "source": [
    "### Relative Vorticity\n"
   ]
  },
  {
   "cell_type": "code",
   "execution_count": null,
   "id": "1ed48c17-e35b-4b96-82f9-095d666dd503",
   "metadata": {},
   "outputs": [],
   "source": [
    "from ocn_tools._src.geoprocessing.geostrophic import relative_vorticity\n",
    "\n",
    "da = geostrophic_velocities(test_data, variable=\"zos\")\n",
    "da = relative_vorticity(da, variables=[\"u\", \"v\"])\n",
    "da2 = relative_vorticity(test_data, variables=[\"uo\", \"vo\"])"
   ]
  },
  {
   "cell_type": "code",
   "execution_count": null,
   "id": "419c1b44-c3a4-4019-b2c4-8e8c33b0f2f2",
   "metadata": {},
   "outputs": [],
   "source": [
    "%matplotlib inline\n",
    "fig, ax = plt.subplots(ncols=2, figsize=(10,4))\n",
    "\n",
    "da.vort_r.isel(time=1).plot.pcolormesh(ax=ax[0], cmap=\"jet\")\n",
    "da2.vort_r.isel(time=1, elevation=1).plot.pcolormesh(ax=ax[1], cmap=\"jet\")\n",
    "\n",
    "plt.tight_layout()\n",
    "plt.show()"
   ]
  },
  {
   "cell_type": "markdown",
   "id": "9c019190-645a-45fd-87c4-ccf7c734619c",
   "metadata": {},
   "source": [
    "### Absolute Vorticity"
   ]
  },
  {
   "cell_type": "code",
   "execution_count": null,
   "id": "0f5b1ef2-9198-4b72-8c19-c34ecc55c8ce",
   "metadata": {},
   "outputs": [],
   "source": [
    "from ocn_tools._src.geoprocessing.geostrophic import absolute_vorticity\n",
    "\n",
    "da = geostrophic_velocities(test_data, variable=\"zos\")\n",
    "da = absolute_vorticity(da, variables=[\"u\", \"v\"])\n",
    "da2 = absolute_vorticity(test_data, variables=[\"uo\", \"vo\"])\n"
   ]
  },
  {
   "cell_type": "code",
   "execution_count": null,
   "id": "7e6f064d-f03f-4cf0-9fbd-dbe50861b8d8",
   "metadata": {},
   "outputs": [],
   "source": [
    "%matplotlib inline\n",
    "fig, ax = plt.subplots(ncols=2, figsize=(10,4))\n",
    "\n",
    "da.vort_a.isel(time=1).plot.pcolormesh(ax=ax[0], cmap=\"jet\")\n",
    "da2.vort_a.isel(time=1, elevation=1).plot.pcolormesh(ax=ax[1], cmap=\"jet\")\n",
    "\n",
    "plt.tight_layout()\n",
    "plt.show()"
   ]
  },
  {
   "cell_type": "markdown",
   "id": "cbc274e3-ed6b-4120-884d-08150a2dd0a7",
   "metadata": {},
   "source": [
    "### Divergence"
   ]
  },
  {
   "cell_type": "code",
   "execution_count": null,
   "id": "aa31c0ed-0564-45e1-ba9f-e7f640141e63",
   "metadata": {},
   "outputs": [],
   "source": [
    "from ocn_tools._src.geoprocessing.geostrophic import divergence, coriolis_normalized\n",
    "\n",
    "da = geostrophic_velocities(test_data, variable=\"zos\")\n",
    "da = divergence(da, variables=[\"u\", \"v\"])\n",
    "da2 = divergence(test_data, variables=[\"uo\", \"vo\"])\n",
    "\n",
    "da = coriolis_normalized(da, \"div\")\n",
    "da2 = coriolis_normalized(da2, \"div\")\n",
    "\n",
    "\n",
    "%matplotlib inline\n",
    "fig, ax = plt.subplots(ncols=2, figsize=(10,4))\n",
    "\n",
    "da.div.isel(time=1).plot.pcolormesh(ax=ax[0], cmap=\"jet\")\n",
    "da2.div.isel(time=1, elevation=1).plot.pcolormesh(ax=ax[1], cmap=\"jet\")\n",
    "\n",
    "plt.tight_layout()\n",
    "plt.show()"
   ]
  },
  {
   "cell_type": "markdown",
   "id": "ee61dbec-44b0-4494-b933-98a6d353e810",
   "metadata": {},
   "source": [
    "### Enstropy"
   ]
  },
  {
   "cell_type": "code",
   "execution_count": null,
   "id": "09339e7d-71eb-431f-b974-695d26119ba5",
   "metadata": {},
   "outputs": [],
   "source": [
    "from ocn_tools._src.geoprocessing.geostrophic import enstrophy, coriolis_normalized\n",
    "\n",
    "da = geostrophic_velocities(test_data, variable=\"zos\")\n",
    "da = relative_vorticity(da, variables=[\"u\", \"v\"])\n",
    "da2 = relative_vorticity(test_data, variables=[\"uo\", \"vo\"])\n",
    "\n",
    "da = enstrophy(da)\n",
    "da2 = enstrophy(da2)\n",
    "\n",
    "da = coriolis_normalized(da, \"ens\")\n",
    "da2 = coriolis_normalized(da2, \"ens\")\n",
    "\n",
    "\n",
    "%matplotlib inline\n",
    "fig, ax = plt.subplots(ncols=2, figsize=(10,4))\n",
    "\n",
    "da.ens.isel(time=1).plot.pcolormesh(ax=ax[0], cmap=\"jet\")\n",
    "da2.ens.isel(time=1, elevation=1).plot.pcolormesh(ax=ax[1], cmap=\"jet\")\n",
    "\n",
    "plt.tight_layout()\n",
    "plt.show()"
   ]
  },
  {
   "cell_type": "markdown",
   "id": "0dde26c2-f45e-4b6a-825d-a17b7d32ab4e",
   "metadata": {},
   "source": [
    "### Strain"
   ]
  },
  {
   "cell_type": "code",
   "execution_count": null,
   "id": "99112674-3a2c-4e38-94f2-33ece5573cb1",
   "metadata": {},
   "outputs": [],
   "source": [
    "from ocn_tools._src.geoprocessing.geostrophic import shear_strain, coriolis_normalized\n",
    "\n",
    "da = geostrophic_velocities(test_data, variable=\"zos\")\n",
    "da = shear_strain(da, variables=[\"u\", \"v\"])\n",
    "da2 = shear_strain(test_data, variables=[\"uo\", \"vo\"])\n",
    "\n",
    "\n",
    "\n",
    "%matplotlib inline\n",
    "fig, ax = plt.subplots(ncols=2, figsize=(10,4))\n",
    "\n",
    "da.shear_strain.isel(time=1).plot.pcolormesh(ax=ax[0], cmap=\"jet\")\n",
    "da2.shear_strain.isel(time=1, elevation=1).plot.pcolormesh(ax=ax[1], cmap=\"jet\")\n",
    "\n",
    "plt.tight_layout()\n",
    "plt.show()"
   ]
  },
  {
   "cell_type": "markdown",
   "id": "8545ec4b-ccbc-4b7d-9251-fa2b49ed4e43",
   "metadata": {},
   "source": [
    "# PostProcessings/Evaluations\n",
    "## assessing the effective resolution"
   ]
  },
  {
   "cell_type": "code",
   "execution_count": null,
   "id": "97928779-643e-45fa-aaab-7dd96e0f7c43",
   "metadata": {},
   "outputs": [],
   "source": [
    "from ocn_tools._src.metrics import power_spectrum as psdcalc\n",
    "from ocn_tools._src.preprocessing.mean import xr_cond_average\n",
    "from ocn_tools._src.geoprocessing.temporal import time_rescale"
   ]
  },
  {
   "cell_type": "code",
   "execution_count": null,
   "id": "4cc5bb93-e389-43d4-ab7e-f2e9ebd3709e",
   "metadata": {},
   "outputs": [],
   "source": [
    "#test_data=test_data.rename({'latitude':'lat', 'longitude':'lon'})\n",
    "test_data0=test_data.fillna(0)\n",
    "da_scaled = latlon_deg2m(test_data0, mean=False)\n"
   ]
  },
  {
   "cell_type": "code",
   "execution_count": null,
   "id": "8347b19d-ec5f-4c10-a95a-2b4439bff982",
   "metadata": {},
   "outputs": [],
   "source": [
    "t0 = \"2020-10-22\"\n",
    "freq_dt = 1\n",
    "freq_unit = \"D\"\n",
    "\n",
    "\n",
    "da_scaled = time_rescale(da_scaled, freq_dt=freq_dt, freq_unit=freq_unit, t0=t0)\n",
    "\n"
   ]
  },
  {
   "cell_type": "markdown",
   "id": "f4a70c3c-a52c-4686-94c8-2f604e6c43e2",
   "metadata": {},
   "source": [
    "## Isotropic Assumption"
   ]
  },
  {
   "cell_type": "code",
   "execution_count": null,
   "id": "2bfcdf67-2196-49fc-b8e9-c67c6f410a11",
   "metadata": {},
   "outputs": [],
   "source": [
    "da_psd_iso = psdcalc.psd_isotropic(test_data0, \"zos\", [\"lat\", \"lon\"])\n",
    "da_psd_iso = xr_cond_average(da_psd_iso, dims=[\"time\"], drop=True)\n",
    "#doesn't work when you rescal to m"
   ]
  },
  {
   "cell_type": "code",
   "execution_count": null,
   "id": "8d3ede08-c107-4bb1-b1a4-383fc16d9c0c",
   "metadata": {},
   "outputs": [],
   "source": [
    "class PlotPSDIsotropic:\n",
    "        \n",
    "    def init_fig(self, ax=None, figsize=None):\n",
    "        if ax is None:\n",
    "            figsize = (5,4) if figsize is None else figsize\n",
    "            self.fig, self.ax = plt.subplots(figsize=figsize)\n",
    "        else:\n",
    "            self.ax = ax\n",
    "            self.fig = plt.gcf()\n",
    "        \n",
    "    def plot_wavenumber(self, da, freq_scale=1.0, units=None, **kwargs):\n",
    "        \n",
    "        if units is not None:\n",
    "            xlabel = f\"Wavenumber [cycles/{units}]\"\n",
    "        else:\n",
    "            xlabel = f\"Wavenumber\"\n",
    "        \n",
    "        self.ax.plot(da.freq_r * freq_scale, da, **kwargs)\n",
    "\n",
    "        self.ax.set(\n",
    "            yscale=\"log\", xscale=\"log\",\n",
    "            xlabel=xlabel,\n",
    "            ylabel=f\"PSD [{da.name}]\"\n",
    "        )\n",
    "\n",
    "        self.ax.legend()\n",
    "        self.ax.grid(which=\"both\", alpha=0.5)\n",
    "        \n",
    "    def plot_wavelength(self, da, freq_scale=1.0, units=None, **kwargs):\n",
    "        \n",
    "        if units is not None:\n",
    "            xlabel = f\"Wavelength [{units}]\"\n",
    "        else:\n",
    "            xlabel = f\"Wavelength\"\n",
    "        \n",
    "        self.ax.plot(1/(da.freq_r * freq_scale), da, **kwargs)\n",
    "        \n",
    "        self.ax.set(\n",
    "            yscale=\"log\", xscale=\"log\",\n",
    "            xlabel=xlabel,\n",
    "            ylabel=f\"PSD [{da.name}]\"\n",
    "        )\n",
    "\n",
    "        self.ax.xaxis.set_major_formatter(\"{x:.0f}\")\n",
    "        self.ax.invert_xaxis()\n",
    "        \n",
    "        self.ax.legend()\n",
    "        self.ax.grid(which=\"both\", alpha=0.5)\n",
    "                \n",
    "    def plot_both(self, da, freq_scale=1.0, units=None, **kwargs):\n",
    "        \n",
    "        if units is not None:\n",
    "            xlabel = f\"Wavelength [{units}]\"\n",
    "        else:\n",
    "            xlabel = f\"Wavelength\"\n",
    "        \n",
    "        self.plot_wavenumber(da=da, units=units, freq_scale=freq_scale, **kwargs)\n",
    "        \n",
    "        self.secax = self.ax.secondary_xaxis(\n",
    "            \"top\", functions=(lambda x: 1 / (x + 1e-20), lambda x: 1 / (x + 1e-20))\n",
    "        )\n",
    "        self.secax.xaxis.set_major_formatter(\"{x:.0f}\")\n",
    "        self.secax.set(xlabel=xlabel)"
   ]
  },
  {
   "cell_type": "code",
   "execution_count": null,
   "id": "28175f70-6b0f-4bee-84f9-4a353db6644f",
   "metadata": {},
   "outputs": [],
   "source": [
    "psd_iso_plot = PlotPSDIsotropic()\n",
    "psd_iso_plot.init_fig()\n",
    "psd_iso_plot.plot_both(\n",
    "    da_psd_iso.zos,\n",
    "    freq_scale=1e3, \n",
    "    units=\"km\",\n",
    "    label=\"GLORYS12\"\n",
    ")\n",
    "plt.show()"
   ]
  },
  {
   "cell_type": "markdown",
   "id": "05527a09-6497-4003-8821-5c1c0acfeeba",
   "metadata": {},
   "source": [
    "## Spatial Temporal (Time vs Longitude)"
   ]
  },
  {
   "cell_type": "code",
   "execution_count": null,
   "id": "5091a54d-effd-456d-af28-6bfb775a2c8a",
   "metadata": {},
   "outputs": [],
   "source": [
    "da_psd_st = psdcalc.psd_spacetime(test_data, \"zos\", [\"time\", \"lon\"])\n",
    "da_psd_st = xr_cond_average(da_psd_st, dims=[\"lat\"], drop=True)\n"
   ]
  },
  {
   "cell_type": "code",
   "execution_count": null,
   "id": "06e9700e-b4c8-46c6-bae6-5d8d79dc3e6b",
   "metadata": {},
   "outputs": [],
   "source": [
    "import matplotlib.pyplot as plt\n",
    "import matplotlib.colors as colors\n",
    "import matplotlib.ticker as ticker\n",
    "\n",
    "\n",
    "class PlotPSDSpaceTime:\n",
    "    def init_fig(self, ax=None, figsize=None):\n",
    "        if ax is None:\n",
    "            figsize = (5,4) if figsize is None else figsize\n",
    "            self.fig, self.ax = plt.subplots(figsize=figsize)\n",
    "        else:\n",
    "            self.ax = ax\n",
    "            self.fig = plt.gcf()\n",
    "        \n",
    "    def plot_wavenumber(\n",
    "        self, \n",
    "        da, \n",
    "        space_scale: float=1.0,\n",
    "        space_units: str=None,\n",
    "        time_units: str=None,\n",
    "        psd_units: float=None,\n",
    "        **kwargs):\n",
    "        \n",
    "        if space_units is not None:\n",
    "            xlabel = f\"Wavenumber [cycles/{space_units}]\"\n",
    "        else:\n",
    "            xlabel = f\"Wavenumber\"\n",
    "        if time_units is not None:\n",
    "            ylabel = f\"Frequency [cycles/{time_units}]\"\n",
    "        else:\n",
    "            ylabel = f\"Frequency\"\n",
    "\n",
    "        if psd_units is None:\n",
    "            cbar_label = \"PSD\"\n",
    "        else:\n",
    "            cbar_label = f\"PSD [{psd_units}]\"\n",
    "        \n",
    "        locator = ticker.LogLocator()\n",
    "        norm = colors.LogNorm()\n",
    "        \n",
    "        pts = self.ax.contourf(\n",
    "            1/(da.freq_lon*space_scale),\n",
    "            1/da.freq_time, \n",
    "            da.transpose(\"freq_time\", \"freq_lon\"), \n",
    "            norm=norm, \n",
    "            locator=locator, \n",
    "            cmap=kwargs.pop(\"cmap\", \"RdYlGn\"), \n",
    "            extend=kwargs.pop(\"extend\", \"both\"),\n",
    "            **kwargs\n",
    "        )\n",
    "\n",
    "        self.ax.set(\n",
    "            yscale=\"log\",\n",
    "            xscale=\"log\",\n",
    "            xlabel=xlabel,\n",
    "            ylabel=ylabel,\n",
    "        )\n",
    "        # colorbar\n",
    "        fmt = ticker.LogFormatterMathtext(base=10)\n",
    "        cbar = plt.colorbar(\n",
    "            pts,\n",
    "            ax=self.ax,\n",
    "            pad=0.02,\n",
    "            format=fmt,\n",
    "        )\n",
    "        cbar.ax.set_ylabel(cbar_label)\n",
    "        self.ax.invert_xaxis()\n",
    "        self.ax.invert_yaxis()\n",
    "        self.ax.grid(which=\"both\", linestyle=\"--\", linewidth=1, color=\"black\", alpha=0.2)\n",
    "\n",
    "\n",
    "    def plot_wavelength(        \n",
    "        self, \n",
    "        da, \n",
    "        space_scale: float=1.0,\n",
    "        space_units: str=None,\n",
    "        time_units: str=None,\n",
    "        psd_units: float=None,\n",
    "        **kwargs\n",
    "    ):\n",
    "    \n",
    "        if space_units is not None:\n",
    "            xlabel = f\"Wavelength [{space_units}]\"\n",
    "        else:\n",
    "            xlabel = f\"Wavelength\"\n",
    "            \n",
    "        if time_units is not None:\n",
    "            ylabel = f\"Period [{time_units}]\"\n",
    "        else:\n",
    "            ylabel = f\"Period\"\n",
    "            \n",
    "        if psd_units is None:\n",
    "            cbar_label = \"PSD\"\n",
    "        else:\n",
    "            cbar_label = f\"PSD [{psd_units}]\"\n",
    "            \n",
    "        self.plot_wavenumber(\n",
    "            da=da, space_scale=space_scale, \n",
    "            space_units=space_units, time_units=time_units,\n",
    "            psd_units=psd_units\n",
    "        )\n",
    "\n",
    "        self.ax.set(\n",
    "            xlabel=xlabel, \n",
    "            ylabel=ylabel\n",
    "        )\n",
    "        self.ax.xaxis.set_major_formatter(\"{x:.0f}\")\n",
    "        self.ax.yaxis.set_major_formatter(\"{x:.0f}\")"
   ]
  },
  {
   "cell_type": "code",
   "execution_count": null,
   "id": "e797ac56-9062-4dd3-b105-6f321c2eb831",
   "metadata": {},
   "outputs": [],
   "source": [
    "psd_st_plot = PlotPSDSpaceTime()\n",
    "psd_st_plot.init_fig()\n",
    "psd_st_plot.plot_wavenumber(\n",
    "    da_psd_st.zos,\n",
    "    space_scale=1e3, \n",
    "    space_units=\"km\", \n",
    "    time_units=\"days\",\n",
    "    psd_units=\"SSH\"\n",
    ")\n",
    "plt.show()"
   ]
  },
  {
   "cell_type": "code",
   "execution_count": null,
   "id": "9db04e5d-da94-4fd1-874f-39e455f542e3",
   "metadata": {},
   "outputs": [],
   "source": []
  }
 ],
 "metadata": {
  "kernelspec": {
   "display_name": "Python 3 (ipykernel)",
   "language": "python",
   "name": "python3"
  },
  "language_info": {
   "codemirror_mode": {
    "name": "ipython",
    "version": 3
   },
   "file_extension": ".py",
   "mimetype": "text/x-python",
   "name": "python",
   "nbconvert_exporter": "python",
   "pygments_lexer": "ipython3",
   "version": "3.11.4"
  }
 },
 "nbformat": 4,
 "nbformat_minor": 5
}
