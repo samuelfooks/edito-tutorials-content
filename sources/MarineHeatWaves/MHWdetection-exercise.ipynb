{
 "cells": [
  {
   "cell_type": "markdown",
   "metadata": {},
   "source": [
    "## MHW Detection exercise\n",
    "\n",
    "From the `MHWdetection.ipynb` notebook, you will:\n",
    "1. download Marine Protected Areas from EMODnet\n",
    "2. download Copernicus Marine [GLORYS12 (GLOBAL_MULTIYEAR_PHY_001_030)](https://data.marine.copernicus.eu/product/GLOBAL_MULTIYEAR_PHY_001_030/description) timeseries and latest [GLO12 (GLOBAL_ANALYSISFORECAST_PHY_001_024)](https://data.marine.copernicus.eu/product/GLOBAL_ANALYSISFORECAST_PHY_001_024/description) NRT data\n",
    "3. Compute climatological statistics and deriving MHW intensity index \n",
    "4. Plot results over  the \"BANCO DE GALICIA\" MPA region (CODE = 2346)\n"
   ]
  },
  {
   "cell_type": "markdown",
   "metadata": {},
   "source": [
    "### Main configuration variables"
   ]
  },
  {
   "cell_type": "code",
   "execution_count": null,
   "metadata": {},
   "outputs": [],
   "source": [
    "#Get GLORYS12 Reanalysis characteristics\n",
    "product_id=['GLOBAL_MULTIYEAR_PHY_001_030'] #Unused unless you need to access the dataset's metadata\n",
    "dataset_id=['cmems_mod_glo_phy_my_0.083_P1D-m']\n",
    "\n",
    "period=[\"2014-01-01\", \"2016-12-31\"] #SHORT PERIOD FOR TESTING CLIMATOLOGY COMPUTATION\n",
    "# period=[\"1993-01-01\", \"2016-12-31\"]\n",
    "variables=[\"thetao\"]\n",
    "\n",
    "#Get GLO12V4 Forecasting characteristics\n",
    "product_id=['GLOBAL_ANALYSISFORECAST_PHY_001_024'] #Unused unless you need to access the dataset's metadata\n",
    "dataset_id_fcst=['cmems_mod_glo_phy-thetao_anfc_0.083deg_P1D-m']\n",
    "period_fcst=[datetime.now().strftime('%Y-%m-%d'),(datetime.now()+timedelta(days=9)).strftime('%Y-%m-%d')] #Latest forecast\n",
    "# period_fcst=[\"2023-06-11\", \"2023-06-20\"] #Hindcast only\n",
    "\n",
    "#Get Shapefiles:\n",
    "shp_dir= \"./data/SHAPEFILES/EMODnet_MPAs/\"\n",
    "REGION_NAME = \"BANCO DE GALICIA\"\n",
    "REGION_CODE = 2346\n"
   ]
  },
  {
   "cell_type": "markdown",
   "metadata": {},
   "source": [
    "#### Hint\n",
    "The code below will allow you extracting the right shapefile variables"
   ]
  },
  {
   "cell_type": "code",
   "execution_count": null,
   "metadata": {},
   "outputs": [],
   "source": [
    "ds_shp = gpd.read_file(<MYSHAPEFILE>)\n",
    "shp_geo=ds_shp.geometry[ds_shp.CODE == REGION_CODE]\n",
    "coords=shp_geo.exterior.get_coordinates()\n",
    "coords"
   ]
  }
 ],
 "metadata": {
  "kernelspec": {
   "display_name": "Python 3 (ipykernel)",
   "language": "python",
   "name": "python3"
  },
  "language_info": {
   "codemirror_mode": {
    "name": "ipython",
    "version": 3
   },
   "file_extension": ".py",
   "mimetype": "text/x-python",
   "name": "python",
   "nbconvert_exporter": "python",
   "pygments_lexer": "ipython3",
   "version": "3.11.4"
  }
 },
 "nbformat": 4,
 "nbformat_minor": 4
}
