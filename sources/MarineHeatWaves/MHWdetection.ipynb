{
 "cells": [
  {
   "cell_type": "markdown",
   "metadata": {},
   "source": [
    "## Configure environment"
   ]
  },
  {
   "cell_type": "code",
   "execution_count": null,
   "metadata": {},
   "outputs": [],
   "source": [
    "import copernicus_marine_client as cmc #may return a warning at first (known CMC issue)\n",
    "import numpy as np\n",
    "import pandas as pd\n",
    "import os\n",
    "from datetime import datetime, timedelta\n",
    "import matplotlib.pyplot as plt\n",
    "import geopandas as gpd\n",
    "import cartopy.crs as ccrs\n",
    "import cartopy.feature as cfeature\n",
    "import regionmask"
   ]
  },
  {
   "cell_type": "markdown",
   "metadata": {},
   "source": [
    "## Start defining data characteristics\n",
    "We want to access data:\n",
    "* from [GLORYS12 (GLOBAL_MULTIYEAR_PHY_001_030)](https://data.marine.copernicus.eu/product/GLOBAL_MULTIYEAR_PHY_001_030/description) RAN system\n",
    "* from [GLO12 (GLOBAL_ANALYSISFORECAST_PHY_001_024)](https://data.marine.copernicus.eu/product/GLOBAL_ANALYSISFORECAST_PHY_001_024/description) NRT Analysis and Forecasting system\n",
    "* on SST (thetao, surface level)\n",
    "* over a climatological period (reference = 1993-2016) and on latest (or previous) forecasting dates\n",
    "* computed over one of the Icelandic ZEE subregions shapefiles (delivered with notebook)"
   ]
  },
  {
   "cell_type": "code",
   "execution_count": null,
   "metadata": {},
   "outputs": [],
   "source": [
    "#Get GLORYS12 Reanalysis characteristics\n",
    "product_id=['GLOBAL_MULTIYEAR_PHY_001_030'] #Unused unless you need to access the dataset's metadata\n",
    "dataset_id=['cmems_mod_glo_phy_my_0.083_P1D-m']\n",
    "\n",
    "# period=[\"2014-01-01\", \"2016-12-31\"] #SHORT PERIOD FOR TESTING CLIMATOLOGY COMPUTATION\n",
    "period=[\"1993-01-01\", \"2016-12-31\"]\n",
    "variables=[\"thetao\"]\n",
    "\n",
    "#Get GLO12V4 Forecasting characteristics\n",
    "product_id=['GLOBAL_ANALYSISFORECAST_PHY_001_024'] #Unused unless you need to access the dataset's metadata\n",
    "dataset_id_fcst=['cmems_mod_glo_phy-thetao_anfc_0.083deg_P1D-m']\n",
    "period_fcst=[datetime.now().strftime('%Y-%m-%d'),(datetime.now()+timedelta(days=9)).strftime('%Y-%m-%d')] #Latest forecast\n",
    "# period_fcst=[\"2023-06-11\", \"2023-06-20\"] #Hindcast only\n",
    "\n",
    "#Get Shapefiles:\n",
    "shp_dir= \"./data/SHAPEFILES/ICELAND_SUBREGIONS/\"\n",
    "region_ID = 3 #(1= easternmost region, then rotating clockwise up to 9)"
   ]
  },
  {
   "cell_type": "markdown",
   "metadata": {},
   "source": [
    "## Start opening data\n",
    "* read shapefiles\n",
    "* open ZARR geo-chunked datasets for RAN (faster on timeseries)\n",
    "* open ZARR time-chunked datasets for forecasts (faster over space)\n",
    "\n",
    "***WARNING**: CMC credentials are read from environement variables (through Vault)*"
   ]
  },
  {
   "cell_type": "markdown",
   "metadata": {},
   "source": [
    "### Load Shapefile data\n",
    "\n",
    "Manually processed shapefiles. Subregion polygons are provided within subfolders (poly*/poly*.shp)"
   ]
  },
  {
   "cell_type": "code",
   "execution_count": null,
   "metadata": {},
   "outputs": [],
   "source": [
    "i=region_ID-1\n",
    "subregion_name='zone'+format(i+1,'1d')\n",
    "print(\"Start processing region :\", subregion_name, \"\\n\",\n",
    "      \"\\n\")\n",
    "\n",
    "#Load Suberegion\n",
    "ds_shp = gpd.read_file(shp_dir+'/poly'+format(i+1,'02d')+'/poly'+format(i+1,'02d')+'.shp')\n",
    "shp_geo=ds_shp.geometry[ds_shp.NAME == subregion_name]\n",
    "coords = ds_shp.geometry.exterior.get_coordinates()\n",
    "coords"
   ]
  },
  {
   "cell_type": "markdown",
   "metadata": {},
   "source": [
    "### Load Copernicus Marine Data\n",
    "You may need to enter your credentials if environment variable were not set properly (cf. copernicus marine client documentation)"
   ]
  },
  {
   "cell_type": "code",
   "execution_count": null,
   "metadata": {},
   "outputs": [],
   "source": [
    "%%time\n",
    "\n",
    "#Get subregion bounding box (to nearest degree)\n",
    "lon_range = np.floor(np.min(coords.x)),np.ceil(np.max(coords.x))\n",
    "lat_range = np.floor(np.min(coords.y)),np.ceil(np.max(coords.y))\n",
    "\n",
    "#Extract FCST data from MDS arco-time-chunked zarr datacube\n",
    "ds_fcst = cmc.load_xarray_dataset(\n",
    "    dataset_id = dataset_id_fcst[0],\n",
    "    minimal_longitude = min(lon_range),\n",
    "    maximal_longitude = max(lon_range),\n",
    "    minimal_latitude = min(lat_range),\n",
    "    maximal_latitude = max(lat_range),\n",
    "    minimal_depth = 0.,\n",
    "    maximal_depth = 0.,\n",
    "    start_datetime = period_fcst[0],\n",
    "    end_datetime = period_fcst[1],\n",
    "    variables = variables,\n",
    "    force_service = 'arco-time-series'\n",
    ")\n",
    "\n",
    "#Extract RAN data from MDS arco-geo-chunked zarr datacube\n",
    "ds = cmc.load_xarray_dataset(\n",
    "    dataset_id = dataset_id[0],\n",
    "    minimal_longitude = min(lon_range),\n",
    "    maximal_longitude = max(lon_range),\n",
    "    minimal_latitude = min(lat_range),\n",
    "    maximal_latitude = max(lat_range),\n",
    "    minimal_depth = 0.,\n",
    "    maximal_depth = 0.,\n",
    "    start_datetime = period[0],\n",
    "    end_datetime = period[1],\n",
    "    variables = variables,\n",
    "    force_service = 'arco-geo-series'\n",
    ")"
   ]
  },
  {
   "cell_type": "markdown",
   "metadata": {},
   "source": [
    "#### Display forecast dataset"
   ]
  },
  {
   "cell_type": "code",
   "execution_count": null,
   "metadata": {},
   "outputs": [],
   "source": [
    "ds_fcst"
   ]
  },
  {
   "cell_type": "markdown",
   "metadata": {},
   "source": [
    "#### Display RAN dataset"
   ]
  },
  {
   "cell_type": "code",
   "execution_count": null,
   "metadata": {},
   "outputs": [],
   "source": [
    "ds"
   ]
  },
  {
   "cell_type": "markdown",
   "metadata": {},
   "source": [
    "## Computational part\n",
    "\n",
    "### Dataset tidying: Masking,Stacking, NaNs dropping\n",
    "In order to optimize computation and data usage we will:\n",
    "1. Mask RAN data over space using shapefiles (using the `regionmask.mask_geopandas` function)\n",
    "\n",
    "***NOTE** This is one of the heaviest part as it loads ZARR chunks on-the-fly over the full requested subset of dataset*"
   ]
  },
  {
   "cell_type": "code",
   "execution_count": null,
   "metadata": {},
   "outputs": [],
   "source": [
    "%%time\n",
    "#Apply geospatial mask on RAN data (!SLOW)\n",
    "mask_subregion = regionmask.mask_geopandas(shp_geo, ds.longitude, ds.latitude)\n",
    "ds_sub = ds.where(mask_subregion==mask_subregion.max())\n"
   ]
  },
  {
   "cell_type": "code",
   "execution_count": null,
   "metadata": {},
   "outputs": [],
   "source": [
    "%%time\n",
    "#Apply geospatial mask on FSCT data (fast!)\n",
    "mask_subregion_fcst = regionmask.mask_geopandas(shp_geo,ds_fcst.longitude, ds_fcst.latitude)\n",
    "ds_fcst_sub = ds_fcst.where(mask_subregion==mask_subregion.max())"
   ]
  },
  {
   "cell_type": "markdown",
   "metadata": {},
   "source": [
    "2. Subset RAN data over time to extract only `dayofyear` timeseries days that are contained within forecasting dates"
   ]
  },
  {
   "cell_type": "code",
   "execution_count": null,
   "metadata": {},
   "outputs": [],
   "source": [
    "#Select fcst time steps for which compute climatological values\n",
    "dates_sub = pd.DatetimeIndex(ds_sub.time)\n",
    "dates_fcst = pd.DatetimeIndex(ds_fcst_sub.time)\n",
    "\n",
    "#Get dayofyear value\n",
    "A = dates_sub.dayofyear\n",
    "B = dates_fcst.dayofyear\n",
    "\n",
    "time_mask=np.full(len(A), False)\n",
    "for i,b in enumerate(B): time_mask+=(A==b) #get interesection mak\n",
    "\n",
    "ds_sub=ds_sub.isel(time=time_mask)\n",
    "dates_sub=pd.DatetimeIndex(ds_sub.time)\n",
    "\n",
    "ds_sub"
   ]
  },
  {
   "cell_type": "markdown",
   "metadata": {},
   "source": [
    "3. As we want avergeing over shapefile area, we could stack the geospatial dimensions ...\n",
    "4. ... and drop all masked values from furt"
   ]
  },
  {
   "cell_type": "code",
   "execution_count": null,
   "metadata": {},
   "outputs": [],
   "source": [
    "%%time\n",
    "#stack over space and drop NaNs\n",
    "ds_stacked=ds_sub.stack(geo=(\"longitude\",\"latitude\")).dropna(dim=\"geo\",how=\"any\")\n",
    "ds_stacked"
   ]
  },
  {
   "cell_type": "markdown",
   "metadata": {},
   "source": [
    "### Compute climatological values\n",
    "We will then extract from the clean RAN subsets:\n",
    "* climatological averages over shapefile subregion for each day of year involved in the analysis\n",
    "* same for the 90th percentile values"
   ]
  },
  {
   "cell_type": "code",
   "execution_count": null,
   "metadata": {},
   "outputs": [],
   "source": [
    "%%time\n",
    "#Compute 90th percentile\n",
    "ds_clim_sub = ds_stacked.groupby(\"time.dayofyear\").mean(dim=\"time\")\n",
    "ds_perc_sub = ds_stacked.groupby(\"time.dayofyear\").quantile(0.9,dim=\"time\")\n",
    "\n",
    "#Average of subregion \n",
    "subregion_clim_avg=ds_clim_sub.thetao.mean(dim='geo')\n",
    "subregion_perc_avg=ds_perc_sub.thetao.mean(dim='geo')"
   ]
  },
  {
   "cell_type": "code",
   "execution_count": null,
   "metadata": {
    "scrolled": true
   },
   "outputs": [],
   "source": [
    "ds_stacked.thetao"
   ]
  },
  {
   "cell_type": "code",
   "execution_count": null,
   "metadata": {},
   "outputs": [],
   "source": [
    "fig=plt.figure()\n",
    "plt.plot(dates_sub.dayofyear,ds_stacked.thetao.mean(dim=\"geo\"),'.k',markersize=0.7)\n",
    "plt.plot(dates_fcst.dayofyear, subregion_clim_avg,'+-r')\n",
    "plt.plot(dates_fcst.dayofyear,subregion_perc_avg,'+-g')\n",
    "plt.plot(dates_fcst.dayofyear,ds_fcst_sub.thetao.mean(dim=(\"latitude\",\"longitude\")),'--b')\n",
    "fig.autofmt_xdate()\n",
    "plt.xlabel('Day of year')\n",
    "plt.ylabel(f'SST ({chr(176)}C)')\n",
    "plt.title(f'Climatological mean vs 90th percentile over forecasting period :\\n {period_fcst[0]} to {period_fcst[1]}')\n",
    "plt.legend(['Raw GLORYS12 data','Climatology GLORYS12','90th Percentile GLORYS12 1993-2016','GLO12V4 Forecast'])"
   ]
  },
  {
   "cell_type": "markdown",
   "metadata": {},
   "source": [
    "## Compute FCST anomalies\n",
    "Anomalies will be computed against climatological mean and 90th percentile compute above"
   ]
  },
  {
   "cell_type": "code",
   "execution_count": null,
   "metadata": {},
   "outputs": [],
   "source": [
    "%%time\n",
    "#Compute FCST anomalies\n",
    "\n",
    "#Extract first and last forecasting days\n",
    "fcst_avg_d0=ds_fcst_sub.isel(time=0).mean()\n",
    "fcst_avg_d9=ds_fcst_sub.isel(time=-1).mean()\n",
    "\n",
    "#Remap\n",
    "fcst_avg_map_d0=ds_fcst_sub.isel(time=0)*0\n",
    "fcst_avg_map_d0+=fcst_avg_d0\n",
    "fcst_avg_map_d9=ds_fcst_sub.isel(time=0)*0\n",
    "fcst_avg_map_d9+=fcst_avg_d9\n",
    "\n",
    "#Compute anomalies to climatology\n",
    "fcst_anom_d0=ds_fcst_sub.isel(time=0)*0\n",
    "fcst_anom_d0+=(fcst_avg_d0.thetao-subregion_clim_avg[0])\n",
    "\n",
    "fcst_anom_d9=ds_fcst_sub.isel(time=-1)*0\n",
    "fcst_anom_d9+=(fcst_avg_d9.thetao-subregion_clim_avg[-1])\n",
    "\n",
    "#Compute difference to 90th percentile\n",
    "fcst_perc_anom_d0=ds_fcst_sub.isel(time=0)*0\n",
    "fcst_perc_anom_d0+=(fcst_avg_d0.thetao-subregion_perc_avg[0])\n",
    "\n",
    "fcst_perc_anom_d9=ds_fcst_sub.isel(time=-1)*0\n",
    "fcst_perc_anom_d9+=(fcst_avg_d9.thetao-subregion_perc_avg[-1])/(subregion_perc_avg[-1]-subregion_clim_avg[-1])\n",
    "\n",
    "#Compute MHW severity\n",
    "fcst_severity_d0=fcst_perc_anom_d0/(subregion_perc_avg[-1]-subregion_clim_avg[-1])\n",
    "fcst_severity_d9=fcst_perc_anom_d9/(subregion_perc_avg[-1]-subregion_clim_avg[-1])"
   ]
  },
  {
   "cell_type": "markdown",
   "metadata": {},
   "source": [
    "#### Show control metrics"
   ]
  },
  {
   "cell_type": "code",
   "execution_count": null,
   "metadata": {},
   "outputs": [],
   "source": [
    "print(f'FCST mean (D0 / D+9): {fcst_avg_d0.thetao.values:0.1f}{chr(176)} - {fcst_avg_d9.thetao.values:0.1f}{chr(176)}')\n",
    "print(f'FCST anom to RAN clim (D0 - D+9): {fcst_avg_d0.thetao.values-subregion_clim_avg.values[0]:0.1f}{chr(176)} - {fcst_avg_d9.thetao.values-subregion_clim_avg.values[-1]:0.1f}{chr(176)} (vs. {subregion_clim_avg.values[0]:0.1f}{chr(176)} - {subregion_clim_avg.values[-1]:0.1f}{chr(176)})')\n",
    "print(f'FCST diff to RAN p90 (D0 - D+9): {fcst_avg_d0.thetao.values-subregion_perc_avg.values[0]:0.1f}{chr(176)} - {fcst_avg_d9.thetao.values-subregion_perc_avg.values[-1]:0.1f}{chr(176)} (vs. {subregion_perc_avg.values[0]:0.1f}{chr(176)} - {subregion_perc_avg.values[-1]:0.1f}{chr(176)})')\n",
    "\n",
    "print('\\n')"
   ]
  },
  {
   "cell_type": "markdown",
   "metadata": {},
   "source": [
    "## Plot results\n",
    "\n",
    "### Initialize plots"
   ]
  },
  {
   "cell_type": "code",
   "execution_count": null,
   "metadata": {},
   "outputs": [],
   "source": [
    "#Overall plotting region\n",
    "# Whole Iceland\n",
    "# plt_lon = [-35,-3]\n",
    "# plt_lat = [57,70]\n",
    "# Subregion zoom\n",
    "plt_lon = [lon_range[0]-np.floor((lon_range[1]-lon_range[0])*0.3),\n",
    "           lon_range[1]+np.ceil((lon_range[1]-lon_range[0])*0.3)]\n",
    "plt_lat = [lat_range[0]-np.floor((lat_range[1]-lat_range[0])*0.3),\n",
    "           lat_range[1]+np.ceil((lat_range[1]-lat_range[0])*0.3)]\n",
    "\n",
    "res = '50m'\n",
    "\n",
    "\n",
    "#Initialize mapping\n",
    "vars=[ds_fcst_sub.isel(time=0),fcst_anom_d0,fcst_severity_d0,\n",
    "     ds_fcst_sub.isel(time=-1),fcst_anom_d9,fcst_severity_d9,]\n",
    "\n",
    "titles=[f'FSCT SST avg D0',\n",
    "        f'FSCT anom D0 (clim={subregion_clim_avg.values[0]:0.1f}{chr(176)})',\n",
    "        f'FSCT MHW Intensity D0\\n(-1=No MHW,0=Moderate,\\n1=Strong,2=Severe,3=Extreme)',\n",
    "        f'FSCT SST avg D+9',\n",
    "        f'FSCT anom D+9 (clim={subregion_clim_avg.values[-1]:0.1f}{chr(176)})',\n",
    "        f'FSCT MHW Intensity D9\\n(-1=No MHW,0=Moderate,\\n1=Strong,2=Severe,3=Extreme)']\n",
    "\n",
    "cmaps=['Spectral_r','RdBu_r','YlOrBr',\n",
    "       'Spectral_r','RdBu_r','YlOrBr']\n",
    "\n",
    "sst_min=np.nanmin((fcst_avg_map_d0.thetao,fcst_avg_map_d9.thetao))\n",
    "sst_max=np.nanmax((fcst_avg_map_d0.thetao,fcst_avg_map_d9.thetao))\n",
    "\n",
    "\n",
    "levels=[(np.floor(sst_min-0.25),np.ceil(sst_max+0.25),0.25),\n",
    "        (-3, 3.5, 0.5),\n",
    "        (0., 4.5, 1.),\n",
    "        (np.floor(sst_min-0.25),np.ceil(sst_max+0.25),0.25),\n",
    "        (-3, 3.5, 0.5),\n",
    "        (0., 4.5, 1.)]\n",
    "\n",
    "#Initialized figure\n",
    "fig= plt.figure(figsize=(10, 6))\n",
    "# fig.subplots_adjust(hspace=0.2,wspace=0.05)\n",
    "proj = ccrs.PlateCarree()\n",
    "\n",
    "#Loop over subplots\n",
    "i=0\n",
    "axes=[]\n",
    "subplt=[]\n",
    "for col in range(3):\n",
    "    for row in range(2):\n",
    "        \n",
    "        axes+= [plt.subplot(2, 3, i+1, projection=proj)]   \n",
    "        axes[i].set_extent(plt_lon+plt_lat, crs=proj)\n",
    "\n",
    "        levs=np.arange(levels[i][0],levels[i][1],levels[i][2])\n",
    "        cmap=plt.get_cmap(cmaps[i],len(levs))\n",
    "        \n",
    "        subplt+=[vars[i].thetao.plot.pcolormesh(ax=axes[i],transform=proj, colors=cmap, levels=levs, add_colorbar=False)]\n",
    "        shp_geo.plot(ax=axes[i], transform=proj, facecolor=\"None\", edgecolor=\"black\")        \n",
    "        \n",
    "        axes[i].set_title(titles[i])\n",
    "        gl = axes[i].gridlines(\n",
    "            draw_labels=True, linewidth=2, color='gray', alpha=0.5, linestyle='--'\n",
    "        )\n",
    "        \n",
    "        axes[i].coastlines(resolution=res, color='black')\n",
    "        axes[i].add_feature(cfeature.STATES, linewidth=0.3, edgecolor='brown')\n",
    "\n",
    "        i+=1\n",
    "fig.tight_layout()\n",
    "fig.colorbar(subplt[3], orientation='horizontal', fraction=0.075, pad=0.05, ax=axes[3]);\n",
    "fig.autofmt_xdate()\n",
    "fig.colorbar(subplt[4], orientation='horizontal', fraction=0.075, pad=0.05, ax=axes[4]);\n",
    "fig.colorbar(subplt[5], orientation='horizontal', fraction=0.075, pad=0.05, ax=axes[5]);\n",
    "\n"
   ]
  },
  {
   "cell_type": "code",
   "execution_count": null,
   "metadata": {},
   "outputs": [],
   "source": []
  }
 ],
 "metadata": {
  "kernelspec": {
   "display_name": "Python 3 (ipykernel)",
   "language": "python",
   "name": "python3"
  },
  "language_info": {
   "codemirror_mode": {
    "name": "ipython",
    "version": 3
   },
   "file_extension": ".py",
   "mimetype": "text/x-python",
   "name": "python",
   "nbconvert_exporter": "python",
   "pygments_lexer": "ipython3",
   "version": "3.11.4"
  }
 },
 "nbformat": 4,
 "nbformat_minor": 4
}
