{
 "cells": [
  {
   "cell_type": "markdown",
   "id": "598c5030-b7d9-459d-86f2-8623fc631ed5",
   "metadata": {},
   "source": [
    "# Application: El Niño 3.4 visualisation"
   ]
  },
  {
   "cell_type": "code",
   "execution_count": null,
   "id": "2fbdeb78",
   "metadata": {},
   "outputs": [],
   "source": [
    "import copernicus_marine_client as cmc\n",
    "from datetime import datetime\n",
    "import xarray as xr\n",
    "import matplotlib.pyplot as plt\n",
    "import s3fs\n",
    "import os"
   ]
  },
  {
   "cell_type": "markdown",
   "id": "e4c08d16-5470-4f11-a524-ecb45ed827ca",
   "metadata": {},
   "source": [
    "## Fetch data from the 3.4 box (5N-5S, 170W-120W)"
   ]
  },
  {
   "cell_type": "code",
   "execution_count": null,
   "id": "12026f91-d9d6-4ccf-82f6-ede3da68942a",
   "metadata": {},
   "outputs": [],
   "source": [
    "start_datetime=datetime(2015,1,1)\n",
    "end_datetime=datetime(2015,2,20)\n",
    "minimal_longitude=-230.0\n",
    "maximal_longitude=-50.0\n",
    "minimal_latitude=-20.0\n",
    "maximal_latitude=15.0\n",
    "x_len=(maximal_longitude-minimal_longitude)/10\n",
    "y_len=(maximal_latitude-minimal_latitude)/10\n",
    "\n",
    "full_map=cmc.load_xarray_dataset(\n",
    "    dataset_id=\"cmems_mod_glo_phy_my_0.083_P1M-m\", \n",
    "    variables=[\"thetao\"],\n",
    "    minimal_longitude=minimal_longitude,\n",
    "    maximal_longitude=maximal_longitude,\n",
    "    minimal_latitude=minimal_latitude,\n",
    "    maximal_latitude=maximal_latitude,\n",
    "    minimal_depth=0,\n",
    "    maximal_depth=100,\n",
    "    start_datetime=start_datetime,\n",
    "    end_datetime=end_datetime,\n",
    "    force_service=\"geoseries\"\n",
    ")"
   ]
  },
  {
   "cell_type": "code",
   "execution_count": null,
   "id": "e5835ecd-c8d5-4871-a9ea-af184badb4dc",
   "metadata": {},
   "outputs": [],
   "source": [
    "import matplotlib.pyplot as plt\n",
    "\n",
    "fig, ax = plt.subplots(figsize=(x_len, y_len))\n",
    "\n",
    "full_map.thetao.isel(time=0, elevation=-1).plot(ax=ax, cmap='jet')\n",
    "\n",
    "ax.add_patch(plt.Rectangle((360-170,-5.0), (360-120-(360-170)), (5.0-(-5.0)), fc=(1,0,0,0.0), ec=(0,0,0,1), lw=2))\n",
    "ax.text(360-169,-4.6, 'Zone Niño 3.4')\n",
    "plt.show()"
   ]
  },
  {
   "cell_type": "markdown",
   "id": "6ed211c9-28f5-4ff5-b5d1-a35da32868e4",
   "metadata": {},
   "source": [
    "## Fetch climato and reanalysis data on thetao for this box "
   ]
  },
  {
   "cell_type": "code",
   "execution_count": null,
   "id": "3335bebb-215a-44b3-8af0-ee6f463990b4",
   "metadata": {},
   "outputs": [],
   "source": [
    "query_result = cmc.describe(contains=[\"https://s3.waw2-1.cloudferro.com/swift/v1/AUTH_04a16d35c9e7451fa5894a700508c003/mdl-arco-geo/arco/GLOBAL_MULTIYEAR_PHY_001_030/cmems_mod_glo_phy_my_0.083-climatology_P1M-m_202112/geoChunked.zarr\"], include_datasets=True)\n",
    "query_result"
   ]
  },
  {
   "cell_type": "code",
   "execution_count": null,
   "id": "f80363c6-f224-4176-8b10-c04fab582638",
   "metadata": {},
   "outputs": [],
   "source": [
    "climato_EN_box34=cmc.load_xarray_dataset(\n",
    "    dataset_url=\"https://s3.waw2-1.cloudferro.com/swift/v1/AUTH_04a16d35c9e7451fa5894a700508c003/mdl-arco-geo/arco/GLOBAL_MULTIYEAR_PHY_001_030/cmems_mod_glo_phy_my_0.083-climatology_P1M-m_202112/geoChunked.zarr\", \n",
    "    variables=[\"thetao\"],\n",
    "    minimal_longitude=-170.0,\n",
    "    maximal_longitude=-120.0,\n",
    "    minimal_latitude=-5.0,\n",
    "    maximal_latitude=5.0,\n",
    ")"
   ]
  },
  {
   "cell_type": "code",
   "execution_count": null,
   "id": "6c02efb4-487e-4d3c-a634-1e2613d25ee0",
   "metadata": {
    "scrolled": true
   },
   "outputs": [],
   "source": [
    "query_result = cmc.describe(contains=[\"cmems_mod_glo_phy_my_0.083_P1D-m\"], include_datasets=True)\n",
    "query_result"
   ]
  },
  {
   "cell_type": "code",
   "execution_count": null,
   "id": "ea64319a-db95-4dd7-a048-2032bc2d6300",
   "metadata": {},
   "outputs": [],
   "source": [
    "start_datetime=datetime(1993,1,1)\n",
    "end_datetime=datetime(2020,12,31)\n",
    "\n",
    "rea_EN_box34=cmc.load_xarray_dataset(\n",
    "    dataset_id=\"cmems_mod_glo_phy_my_0.083_P1M-m\", \n",
    "    variables=[\"thetao\"],\n",
    "    minimal_longitude=-170.0,\n",
    "    maximal_longitude=-120.0,\n",
    "    minimal_latitude=-5.0,\n",
    "    maximal_latitude=5.0,\n",
    "    minimal_depth=0, \n",
    "    maximal_depth=0.5,\n",
    "    start_datetime=start_datetime,\n",
    "    end_datetime=end_datetime,\n",
    "    force_service=\"geoseries\"\n",
    ")"
   ]
  },
  {
   "cell_type": "code",
   "execution_count": null,
   "id": "787f3a1b-2ac2-456b-b412-041f111caa1b",
   "metadata": {},
   "outputs": [],
   "source": [
    "fig, axs = plt.subplots(ncols=2, nrows=4, figsize=(12,12))\n",
    "\n",
    "climato_EN_box34.isel(elevation=-1, time=0).thetao.plot(ax=axs[0][0], cmap='jet', vmin=23, vmax=30)\n",
    "rea_EN_box34.isel(elevation=-1, time=0).thetao.plot(ax=axs[0][1], cmap='jet', vmin=23, vmax=30)\n",
    "climato_EN_box34.isel(elevation=-1, time=3).thetao.plot(ax=axs[1][0], cmap='jet', vmin=23, vmax=30)\n",
    "rea_EN_box34.isel(elevation=-1, time=3).thetao.plot(ax=axs[1][1], cmap='jet', vmin=23, vmax=30)\n",
    "climato_EN_box34.isel(elevation=-1, time=6).thetao.plot(ax=axs[2][0], cmap='jet', vmin=23, vmax=30)\n",
    "rea_EN_box34.isel(elevation=-1, time=6).thetao.plot(ax=axs[2][1], cmap='jet', vmin=23, vmax=30)\n",
    "climato_EN_box34.isel(elevation=-1, time=9).thetao.plot(ax=axs[3][0], cmap='jet', vmin=23, vmax=30)\n",
    "rea_EN_box34.isel(elevation=-1, time=9).thetao.plot(ax=axs[3][1], cmap='jet', vmin=23, vmax=30)\n",
    "plt.tight_layout()\n",
    "plt.draw()"
   ]
  },
  {
   "cell_type": "code",
   "execution_count": null,
   "id": "ddb1dc7f-377a-4864-b58b-74bd001a21d6",
   "metadata": {},
   "outputs": [],
   "source": [
    "rea_EN_box=rea_EN_box34.groupby(rea_EN_box34.time.dt.month)\n",
    "climato_EN_box=climato_EN_box34.groupby(climato_EN_box34.time.dt.month).mean()\n",
    "diff_EN_box=rea_EN_box-climato_EN_box"
   ]
  },
  {
   "cell_type": "code",
   "execution_count": null,
   "id": "9fc5a479-0a3f-4a12-8796-4ea9b327358b",
   "metadata": {},
   "outputs": [],
   "source": [
    "diff_EN_box"
   ]
  },
  {
   "cell_type": "code",
   "execution_count": null,
   "id": "eae2b088-60aa-44b1-92cb-0ba4c67f3b71",
   "metadata": {},
   "outputs": [],
   "source": [
    "diff_EN_box34=diff_EN_box"
   ]
  },
  {
   "cell_type": "code",
   "execution_count": null,
   "id": "963b20ee-2fdf-4f93-8058-ddc61c8d8289",
   "metadata": {},
   "outputs": [],
   "source": [
    "fig, axs = plt.subplots(ncols=1, nrows=4, figsize=(6,12))\n",
    "\n",
    "diff_EN_box34.isel(elevation=-1, time=0).thetao.plot(ax=axs[0], cmap='bwr', vmin=-4.0, vmax=4.0)\n",
    "diff_EN_box34.isel(elevation=-1, time=3).thetao.plot(ax=axs[1], cmap='bwr', vmin=-4.0, vmax=4.0)\n",
    "diff_EN_box34.isel(elevation=-1, time=6).thetao.plot(ax=axs[2], cmap='bwr', vmin=-4.0, vmax=4.0)\n",
    "diff_EN_box34.isel(elevation=-1, time=9).thetao.plot(ax=axs[3], cmap='bwr', vmin=-4.0, vmax=4.0)\n",
    "plt.tight_layout()\n",
    "plt.draw()"
   ]
  },
  {
   "cell_type": "code",
   "execution_count": null,
   "id": "bb319e26-251a-4ac5-b115-486504637b1c",
   "metadata": {},
   "outputs": [],
   "source": [
    "# Create filesystem object\n",
    "S3_ENDPOINT_URL = os.environ[\"S3_ENDPOINT\"]\n",
    "fs = s3fs.S3FileSystem(client_kwargs={'endpoint_url': S3_ENDPOINT_URL})\n",
    "\n",
    "BUCKET_NAME=\"oidc-jsouchard\"\n",
    "fs.ls(BUCKET_NAME)"
   ]
  },
  {
   "cell_type": "code",
   "execution_count": null,
   "id": "0b7d36cc-52e3-4233-a45d-be317a258d09",
   "metadata": {},
   "outputs": [],
   "source": [
    "FILE_PATH='oidc-jsouchard/meiv2.nc'\n",
    "\n",
    "#To download the file on temporary workspace\n",
    "#fs.download(FILE_PATH, 'meiv2.nc')\n",
    "#To open from S3 directly\n",
    "meiv2=xr.open_dataset(fs.open(FILE_PATH, mode=\"rb\"))"
   ]
  },
  {
   "cell_type": "code",
   "execution_count": null,
   "id": "109e4800-6538-4d62-b859-c571d8d0381b",
   "metadata": {},
   "outputs": [],
   "source": [
    "meiv2_rw=meiv2.rename({'MEI': 'thetao'}).sel(time=slice(\"1993-01-01\", \"2020-12-31\"))\n",
    "diff_rw=diff_EN_box34.mean((\"longitude\", \"latitude\")).isel(elevation=-1).drop_vars(['elevation', 'month'])\n",
    "meiv2_rw=meiv2_rw.assign_coords(time=diff_rw.time)\n",
    "corr=xr.corr(meiv2_rw.thetao, diff_rw.thetao)"
   ]
  },
  {
   "cell_type": "code",
   "execution_count": null,
   "id": "389809c9-73db-4ab4-8e31-c667c8e907b0",
   "metadata": {},
   "outputs": [],
   "source": [
    "meiv2_rw.thetao.plot(label=\"Multivariate ENSO Index\")\n",
    "diff_rw.thetao.plot(label=\"Diff model - climato [°C]\")\n",
    "plt.title(f\"R_corr= {corr:.3f}\")\n",
    "plt.legend()"
   ]
  }
 ],
 "metadata": {
  "kernelspec": {
   "display_name": "Python 3 (ipykernel)",
   "language": "python",
   "name": "python3"
  },
  "language_info": {
   "codemirror_mode": {
    "name": "ipython",
    "version": 3
   },
   "file_extension": ".py",
   "mimetype": "text/x-python",
   "name": "python",
   "nbconvert_exporter": "python",
   "pygments_lexer": "ipython3",
   "version": "3.11.4"
  }
 },
 "nbformat": 4,
 "nbformat_minor": 5
}
