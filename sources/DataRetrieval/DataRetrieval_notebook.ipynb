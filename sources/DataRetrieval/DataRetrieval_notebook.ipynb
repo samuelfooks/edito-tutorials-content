{
 "cells": [
  {
   "cell_type": "markdown",
   "id": "822cd816-36d3-47c0-8505-4187820c485c",
   "metadata": {},
   "source": [
    "# Example on how to download a specific variable from the Marine Data Store using the Copernicus-Marine Client"
   ]
  },
  {
   "cell_type": "markdown",
   "id": "86873af4-654a-4568-b730-720c17dc6668",
   "metadata": {},
   "source": [
    "## First import the client from pypi"
   ]
  },
  {
   "cell_type": "code",
   "execution_count": null,
   "id": "191961bf-3132-4d88-ba82-9c037eb5526e",
   "metadata": {},
   "outputs": [],
   "source": [
    "import copernicus_marine_client as cmc\n",
    "from datetime import datetime\n",
    "import xarray as xr\n",
    "import cdsapi\n",
    "import os"
   ]
  },
  {
   "cell_type": "markdown",
   "id": "3f5bbde2",
   "metadata": {},
   "source": [
    "## How to parameterize the clients credentials"
   ]
  },
  {
   "cell_type": "markdown",
   "id": "4c33e449",
   "metadata": {},
   "source": [
    "### This turorial is designed to fetch the credentials from your personal vault on the datalab, in a file called \"Credentials\" at the root of your vault. \n",
    "#### List of credentials expected: \n",
    "- COPERNICUS_MARINE_SERVICE_USERNAME\n",
    "- COPERNICUS_MARINE_SERVICE_PASSWORD\n",
    "- CDS_UID\n",
    "- CDS_APIKEY"
   ]
  },
  {
   "cell_type": "markdown",
   "id": "ef5a4ab3",
   "metadata": {},
   "source": [
    "\n",
    "Otherwise, you can also:\n",
    "1. for the copernicus-marine-client input the credentials at execution when prompted to or use the _login_ command: cmc.login()\n",
    "2. export the environment variables for the copernicus-marine-client:"
   ]
  },
  {
   "cell_type": "code",
   "execution_count": null,
   "id": "b6e41ebe",
   "metadata": {},
   "outputs": [],
   "source": [
    "#os.environ['COPERNICUS_MARINE_SERVICE_USERNAME'] = {username}\n",
    "#os.environ['COPERNICUS_MARINE_SERVICE_PASSWORD'] = {password}"
   ]
  },
  {
   "cell_type": "markdown",
   "id": "91165b0c",
   "metadata": {},
   "source": [
    "#### To create the .cdsapirc file manually:"
   ]
  },
  {
   "cell_type": "code",
   "execution_count": null,
   "id": "b2cde0d5",
   "metadata": {},
   "outputs": [],
   "source": [
    "#with open('../.cdsapirc', 'w') as f:\n",
    "#    f.write(\"url: https://cds.climate.copernicus.eu/api/v2\\nkey: {CDS_UID}:{CDS_APIKEY}\")"
   ]
  },
  {
   "cell_type": "markdown",
   "id": "380c0e9e-2bd9-4530-9ee6-d8b033654add",
   "metadata": {},
   "source": [
    "## How to find the right 'dataset_id' ?"
   ]
  },
  {
   "cell_type": "markdown",
   "id": "2206c5f1-3cd8-4b62-bf57-f416a6cc0eea",
   "metadata": {},
   "source": [
    "### Based on a set of keywords find the most appropriate product"
   ]
  },
  {
   "cell_type": "code",
   "execution_count": null,
   "id": "1465ece8-f731-4a84-9228-163e39ae767a",
   "metadata": {},
   "outputs": [],
   "source": [
    "query_keywords = [\"Global Ocean Physics Reanalysis\"]"
   ]
  },
  {
   "cell_type": "code",
   "execution_count": null,
   "id": "6bf1394f-5f63-41a9-adb7-197859aadbb6",
   "metadata": {},
   "outputs": [],
   "source": [
    "query_result = cmc.describe(contains=query_keywords)\n",
    "query_result"
   ]
  },
  {
   "cell_type": "markdown",
   "id": "c0931190-76f1-46f0-8be6-6a60217f9bfe",
   "metadata": {},
   "source": [
    "### Let's assume we want the product 'Global Ocean Physics Reanalysis'"
   ]
  },
  {
   "cell_type": "markdown",
   "id": "c3f75cc7-a85a-4b16-a747-b43f6934cf2f",
   "metadata": {},
   "source": [
    "### Next fetch the info on datasets for this product"
   ]
  },
  {
   "cell_type": "code",
   "execution_count": null,
   "id": "3ad99e3d-c008-4817-9411-d419945b6ab6",
   "metadata": {},
   "outputs": [],
   "source": [
    "query_result = cmc.describe(contains=['Global Ocean Physics Reanalysis'], include_datasets=True)\n",
    "for product in query_result.get('products'):\n",
    "    for dataset in product.get('datasets'):\n",
    "        print(f\"{dataset.get('dataset_id')} - {dataset.get('dataset_name')}\")"
   ]
  },
  {
   "cell_type": "markdown",
   "id": "5247e35d-91e1-49ad-a3c4-6655d390364f",
   "metadata": {},
   "source": [
    "### Assuming one wants the dataset on monthly mean reanalysis potential temperature: dataset_id = 'cmems_mod_glo_phy_my_0.083_P1M-m'"
   ]
  },
  {
   "cell_type": "code",
   "execution_count": null,
   "id": "0e5ec3f1-1511-4b3f-997f-f3d216ce7881",
   "metadata": {},
   "outputs": [],
   "source": [
    "for product in query_result.get('products'):\n",
    "    for dataset in product.get('datasets'):\n",
    "        if dataset.get('dataset_id') == \"cmems_mod_glo_phy_my_0.083_P1M-m\":\n",
    "            chosen_dataset = dataset\n",
    "print(\"---Variables---\")\n",
    "for variable in chosen_dataset.get(\"variables\"):\n",
    "    print(f\"{variable.get('standard_name')} - {variable.get('short_name')}\")"
   ]
  },
  {
   "cell_type": "markdown",
   "id": "7d7f7578-f28d-420e-b674-c05a6a168da7",
   "metadata": {},
   "source": [
    "## Fetch a subset of this dataset"
   ]
  },
  {
   "cell_type": "code",
   "execution_count": null,
   "id": "596e6e57-bcdf-49a8-8f83-7c1da4baf7bf",
   "metadata": {},
   "outputs": [],
   "source": [
    "start_datetime=datetime(2020,1,12)\n",
    "end_datetime=datetime(2020,2,12)\n",
    "\n",
    "test_data=cmc.load_xarray_dataset(\n",
    "    dataset_id=\"cmems_mod_glo_phy_my_0.083_P1M-m\", \n",
    "    variables=[\"so\"],\n",
    "    minimal_longitude=44.8,\n",
    "    maximal_longitude=45.6,\n",
    "    minimal_latitude=-4.6,\n",
    "    maximal_latitude=-3.7,\n",
    "    minimal_depth=0.0,\n",
    "    maximal_depth=2.0,\n",
    "    start_datetime=start_datetime,\n",
    "    end_datetime=end_datetime,\n",
    ")"
   ]
  },
  {
   "cell_type": "code",
   "execution_count": null,
   "id": "504a5f92-3764-41ed-bae4-da36dc84d36a",
   "metadata": {},
   "outputs": [],
   "source": [
    "test_data"
   ]
  },
  {
   "cell_type": "code",
   "execution_count": null,
   "id": "372f5fba-7643-4fb6-a878-21296be0b960",
   "metadata": {},
   "outputs": [],
   "source": [
    "test_data.so.isel(time=0, elevation=0).plot()"
   ]
  },
  {
   "cell_type": "markdown",
   "id": "f14b9922-b95a-47b2-beab-0815c1863216",
   "metadata": {},
   "source": [
    "## Fetch from Climate Data Store"
   ]
  },
  {
   "cell_type": "code",
   "execution_count": null,
   "id": "d8a5130d-2922-40fc-a5a4-41e7d2cc67ea",
   "metadata": {},
   "outputs": [],
   "source": [
    "c = cdsapi.Client()\n",
    "c.retrieve('reanalysis-era5-complete', { # Requests follow MARS syntax\n",
    "                                        # Keywords 'expver' and 'class' can be dropped. They are obsolete\n",
    "                                        # since their values are imposed by 'reanalysis-era5-complete'\n",
    "   'date'    : '2013-01-01',            # The hyphens can be omitted\n",
    "   'levelist': '1/10/100/137',          # 1 is top level, 137 the lowest model level in ERA5. Use '/' to separate values.\n",
    "   'levtype' : 'ml',\n",
    "   'param'   : '130',                   # Full information at https://apps.ecmwf.int/codes/grib/param-db/\n",
    "                                        # The native representation for temperature is spherical harmonics\n",
    "   'stream'  : 'oper',                  # Denotes ERA5. Ensemble members are selected by 'enda'\n",
    "   'time'    : '00/to/23/by/6',         # You can drop :00:00 and use MARS short-hand notation, instead of '00/06/12/18'\n",
    "   'type'    : 'an',\n",
    "   'area'    : '80/-50/-25/0',          # North, West, South, East. Default: global\n",
    "   'grid'    : '1.0/1.0',               # Latitude/longitude. Default: spherical harmonics or reduced Gaussian grid\n",
    "   'format'  : 'netcdf',                # Output needs to be regular lat-lon, so only works in combination with 'grid'!\n",
    "}, 'ERA5-ml-temperature-subarea.nc')     # Output file. Adapt as you wish."
   ]
  },
  {
   "cell_type": "code",
   "execution_count": null,
   "id": "8a994a1b-e278-42bd-8916-9c014bd52b37",
   "metadata": {},
   "outputs": [],
   "source": [
    "era5=xr.open_dataset(\"ERA5-ml-temperature-subarea.nc\")"
   ]
  },
  {
   "cell_type": "code",
   "execution_count": null,
   "id": "1f3e5fc7-7dce-4aae-be5b-c3a5af146edc",
   "metadata": {},
   "outputs": [],
   "source": [
    "era5.isel(level=1, time=0).t.plot()"
   ]
  }
 ],
 "metadata": {
  "kernelspec": {
   "display_name": "Python 3 (ipykernel)",
   "language": "python",
   "name": "python3"
  },
  "language_info": {
   "codemirror_mode": {
    "name": "ipython",
    "version": 3
   },
   "file_extension": ".py",
   "mimetype": "text/x-python",
   "name": "python",
   "nbconvert_exporter": "python",
   "pygments_lexer": "ipython3",
   "version": "3.11.4"
  }
 },
 "nbformat": 4,
 "nbformat_minor": 5
}
